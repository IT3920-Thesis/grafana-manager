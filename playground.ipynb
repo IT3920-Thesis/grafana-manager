{
 "cells": [
  {
   "cell_type": "code",
   "execution_count": 121,
   "metadata": {
    "collapsed": true
   },
   "outputs": [],
   "source": [
    "import dataclasses\n",
    "from grafana_api.grafana_face import GrafanaFace\n",
    "from typing import Dict, Optional, List"
   ]
  },
  {
   "cell_type": "code",
   "execution_count": 122,
   "outputs": [],
   "source": [
    "GRAFANA_API = GrafanaFace(auth=(\"admin\",\"admin\"), host='localhost:3000')"
   ],
   "metadata": {
    "collapsed": false,
    "pycharm": {
     "name": "#%%\n"
    }
   }
  },
  {
   "cell_type": "code",
   "execution_count": 123,
   "outputs": [],
   "source": [
    "members = dict()    # members[team_name]    -> team_id\n",
    "teams = dict()      # teams[team_name]      -> team_id"
   ],
   "metadata": {
    "collapsed": false,
    "pycharm": {
     "name": "#%%\n"
    }
   }
  },
  {
   "cell_type": "code",
   "execution_count": 124,
   "outputs": [],
   "source": [
    "# @dataclasses.dataclass(frozen=True)\n",
    "class User(Dict):\n",
    "    name: str\n",
    "    email: str\n",
    "    password: str\n",
    "    login: Optional[str] = None\n",
    "    orgId: Optional[int] = None\n",
    "\n",
    "class Team(Dict):\n",
    "    name: str\n",
    "    email: str\n",
    "    orgId: Optional[int] = None\n"
   ],
   "metadata": {
    "collapsed": false,
    "pycharm": {
     "name": "#%%\n"
    }
   }
  },
  {
   "cell_type": "code",
   "execution_count": 125,
   "outputs": [],
   "source": [
    "def make_member(grafana_api:GrafanaFace, user:User):\n",
    "    return grafana_api.admin.create_user(user)\n",
    "\n",
    "def make_team(grafana_api:GrafanaFace, team:Team):\n",
    "    response = grafana_api.teams.add_team(team)\n",
    "    if response[\"message\"] == \"Team created\":\n",
    "        return response[\"teamId\"]\n",
    "    return -1\n",
    "\n",
    "def add_member_to_team(grafana_api:GrafanaFace, user_id:str, team_id:int):\n",
    "    return grafana_api.teams.add_team_member(team_id, user_id)\n",
    "\n",
    "def get_team_members_by_team_id(grafana_api:GrafanaFace, team_id:int):\n",
    "    return grafana_api.teams.get_team_members(team_id)\n"
   ],
   "metadata": {
    "collapsed": false,
    "pycharm": {
     "name": "#%%\n"
    }
   }
  },
  {
   "cell_type": "code",
   "execution_count": 126,
   "outputs": [],
   "source": [
    "def get_n_mock_teams(n) -> List[Team]:\n",
    "    return [Team({\"name\": f\"team{i}\", \"email\": f\"team{i}@gmail.com\"}) for i in range(n)]\n",
    "\n",
    "def get_n_mock_users(n) -> List[User]:\n",
    "    return [User({\"name\":f\"bruker{i}\", \"email\":f\"bruker{i}@gmail.com\", \"password\":\"password\"}) for i in range(n)]"
   ],
   "metadata": {
    "collapsed": false,
    "pycharm": {
     "name": "#%%\n"
    }
   }
  },
  {
   "cell_type": "code",
   "execution_count": 127,
   "outputs": [],
   "source": [
    "mock_users = get_n_mock_users(3)\n",
    "\n",
    "for user in mock_users:\n",
    "    member = make_member(GRAFANA_API, user)\n",
    "    members[user[\"email\"]] = member['id']"
   ],
   "metadata": {
    "collapsed": false,
    "pycharm": {
     "name": "#%%\n"
    }
   }
  },
  {
   "cell_type": "code",
   "execution_count": 128,
   "outputs": [],
   "source": [
    "mock_teams = get_n_mock_teams(4)\n",
    "\n",
    "for team in mock_teams:\n",
    "    team_id = make_team(GRAFANA_API, team)\n",
    "    teams[team['name']] = team_id"
   ],
   "metadata": {
    "collapsed": false,
    "pycharm": {
     "name": "#%%\n"
    }
   }
  },
  {
   "cell_type": "markdown",
   "source": [],
   "metadata": {
    "collapsed": false,
    "pycharm": {
     "name": "#%% md\n"
    }
   }
  }
 ],
 "metadata": {
  "kernelspec": {
   "display_name": "Python 3",
   "language": "python",
   "name": "python3"
  },
  "language_info": {
   "codemirror_mode": {
    "name": "ipython",
    "version": 2
   },
   "file_extension": ".py",
   "mimetype": "text/x-python",
   "name": "python",
   "nbconvert_exporter": "python",
   "pygments_lexer": "ipython2",
   "version": "2.7.6"
  }
 },
 "nbformat": 4,
 "nbformat_minor": 0
}