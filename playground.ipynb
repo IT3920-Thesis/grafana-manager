{
 "cells": [
  {
   "cell_type": "code",
   "execution_count": 121,
   "metadata": {
    "collapsed": true
   },
   "outputs": [],
   "source": [
    "import dataclasses\n",
    "from grafana_api.grafana_face import GrafanaFace\n",
    "from typing import Dict, Optional, List"
   ]
  },
  {
   "cell_type": "code",
   "execution_count": 148,
   "outputs": [],
   "source": [
    "GRAFANA_API = GrafanaFace(auth=(\"admin\",\"admin\"), host='localhost:3000')"
   ],
   "metadata": {
    "collapsed": false,
    "pycharm": {
     "name": "#%%\n"
    }
   }
  },
  {
   "cell_type": "code",
   "execution_count": 123,
   "outputs": [],
   "source": [
    "members = dict()    # members[team_name]    -> team_id\n",
    "teams = dict()      # teams[team_name]      -> team_id"
   ],
   "metadata": {
    "collapsed": false,
    "pycharm": {
     "name": "#%%\n"
    }
   }
  },
  {
   "cell_type": "code",
   "execution_count": 124,
   "outputs": [],
   "source": [
    "# @dataclasses.dataclass(frozen=True)\n",
    "class User(Dict):\n",
    "    name: str\n",
    "    email: str\n",
    "    password: str\n",
    "    login: Optional[str] = None\n",
    "    orgId: Optional[int] = None\n",
    "\n",
    "class Team(Dict):\n",
    "    name: str\n",
    "    email: str\n",
    "    orgId: Optional[int] = None\n"
   ],
   "metadata": {
    "collapsed": false,
    "pycharm": {
     "name": "#%%\n"
    }
   }
  },
  {
   "cell_type": "code",
   "execution_count": 125,
   "outputs": [],
   "source": [
    "def make_member(grafana_api:GrafanaFace, user:User):\n",
    "    return grafana_api.admin.create_user(user)\n",
    "\n",
    "def make_team(grafana_api:GrafanaFace, team:Team):\n",
    "    response = grafana_api.teams.add_team(team)\n",
    "    if response[\"message\"] == \"Team created\":\n",
    "        return response[\"teamId\"]\n",
    "    return -1\n",
    "\n",
    "def add_member_to_team(grafana_api:GrafanaFace, user_id:str, team_id:int):\n",
    "    return grafana_api.teams.add_team_member(team_id, user_id)\n",
    "\n",
    "def get_team_members_by_team_id(grafana_api:GrafanaFace, team_id:int):\n",
    "    return grafana_api.teams.get_team_members(team_id)\n"
   ],
   "metadata": {
    "collapsed": false,
    "pycharm": {
     "name": "#%%\n"
    }
   }
  },
  {
   "cell_type": "code",
   "execution_count": 126,
   "outputs": [],
   "source": [
    "def get_n_mock_teams(n) -> List[Team]:\n",
    "    return [Team({\"name\": f\"team{i}\", \"email\": f\"team{i}@gmail.com\"}) for i in range(n)]\n",
    "\n",
    "def get_n_mock_users(n) -> List[User]:\n",
    "    return [User({\"name\":f\"bruker{i}\", \"email\":f\"bruker{i}@gmail.com\", \"password\":\"password\"}) for i in range(n)]"
   ],
   "metadata": {
    "collapsed": false,
    "pycharm": {
     "name": "#%%\n"
    }
   }
  },
  {
   "cell_type": "code",
   "execution_count": 127,
   "outputs": [],
   "source": [
    "mock_users = get_n_mock_users(3)\n",
    "\n",
    "for user in mock_users:\n",
    "    member = make_member(GRAFANA_API, user)\n",
    "    members[user[\"email\"]] = member['id']"
   ],
   "metadata": {
    "collapsed": false,
    "pycharm": {
     "name": "#%%\n"
    }
   }
  },
  {
   "cell_type": "code",
   "execution_count": 146,
   "outputs": [
    {
     "ename": "GrafanaClientError",
     "evalue": "Client Error 409: Team name taken",
     "output_type": "error",
     "traceback": [
      "\u001B[0;31m---------------------------------------------------------------------------\u001B[0m",
      "\u001B[0;31mGrafanaClientError\u001B[0m                        Traceback (most recent call last)",
      "\u001B[0;32m/var/folders/zk/k1phv3bx5wl1r0q512tls1r40000gn/T/ipykernel_7193/3758051906.py\u001B[0m in \u001B[0;36m<module>\u001B[0;34m\u001B[0m\n\u001B[1;32m      2\u001B[0m \u001B[0;34m\u001B[0m\u001B[0m\n\u001B[1;32m      3\u001B[0m \u001B[0;32mfor\u001B[0m \u001B[0mteam\u001B[0m \u001B[0;32min\u001B[0m \u001B[0mmock_teams\u001B[0m\u001B[0;34m:\u001B[0m\u001B[0;34m\u001B[0m\u001B[0;34m\u001B[0m\u001B[0m\n\u001B[0;32m----> 4\u001B[0;31m     \u001B[0mteam_id\u001B[0m \u001B[0;34m=\u001B[0m \u001B[0mmake_team\u001B[0m\u001B[0;34m(\u001B[0m\u001B[0mGRAFANA_API\u001B[0m\u001B[0;34m,\u001B[0m \u001B[0mteam\u001B[0m\u001B[0;34m)\u001B[0m\u001B[0;34m\u001B[0m\u001B[0;34m\u001B[0m\u001B[0m\n\u001B[0m\u001B[1;32m      5\u001B[0m     \u001B[0mteams\u001B[0m\u001B[0;34m[\u001B[0m\u001B[0mteam\u001B[0m\u001B[0;34m[\u001B[0m\u001B[0;34m'name'\u001B[0m\u001B[0;34m]\u001B[0m\u001B[0;34m]\u001B[0m \u001B[0;34m=\u001B[0m \u001B[0mteam_id\u001B[0m\u001B[0;34m\u001B[0m\u001B[0;34m\u001B[0m\u001B[0m\n",
      "\u001B[0;32m/var/folders/zk/k1phv3bx5wl1r0q512tls1r40000gn/T/ipykernel_7193/822966554.py\u001B[0m in \u001B[0;36mmake_team\u001B[0;34m(grafana_api, team)\u001B[0m\n\u001B[1;32m      3\u001B[0m \u001B[0;34m\u001B[0m\u001B[0m\n\u001B[1;32m      4\u001B[0m \u001B[0;32mdef\u001B[0m \u001B[0mmake_team\u001B[0m\u001B[0;34m(\u001B[0m\u001B[0mgrafana_api\u001B[0m\u001B[0;34m:\u001B[0m\u001B[0mGrafanaFace\u001B[0m\u001B[0;34m,\u001B[0m \u001B[0mteam\u001B[0m\u001B[0;34m:\u001B[0m\u001B[0mTeam\u001B[0m\u001B[0;34m)\u001B[0m\u001B[0;34m:\u001B[0m\u001B[0;34m\u001B[0m\u001B[0;34m\u001B[0m\u001B[0m\n\u001B[0;32m----> 5\u001B[0;31m     \u001B[0mresponse\u001B[0m \u001B[0;34m=\u001B[0m \u001B[0mgrafana_api\u001B[0m\u001B[0;34m.\u001B[0m\u001B[0mteams\u001B[0m\u001B[0;34m.\u001B[0m\u001B[0madd_team\u001B[0m\u001B[0;34m(\u001B[0m\u001B[0mteam\u001B[0m\u001B[0;34m)\u001B[0m\u001B[0;34m\u001B[0m\u001B[0;34m\u001B[0m\u001B[0m\n\u001B[0m\u001B[1;32m      6\u001B[0m     \u001B[0;32mif\u001B[0m \u001B[0mresponse\u001B[0m\u001B[0;34m[\u001B[0m\u001B[0;34m\"message\"\u001B[0m\u001B[0;34m]\u001B[0m \u001B[0;34m==\u001B[0m \u001B[0;34m\"Team created\"\u001B[0m\u001B[0;34m:\u001B[0m\u001B[0;34m\u001B[0m\u001B[0;34m\u001B[0m\u001B[0m\n\u001B[1;32m      7\u001B[0m         \u001B[0;32mreturn\u001B[0m \u001B[0mresponse\u001B[0m\u001B[0;34m[\u001B[0m\u001B[0;34m\"teamId\"\u001B[0m\u001B[0;34m]\u001B[0m\u001B[0;34m\u001B[0m\u001B[0;34m\u001B[0m\u001B[0m\n",
      "\u001B[0;32m~/.pyenv/versions/3.8.6/lib/python3.8/site-packages/grafana_api/api/team.py\u001B[0m in \u001B[0;36madd_team\u001B[0;34m(self, team)\u001B[0m\n\u001B[1;32m     76\u001B[0m         \"\"\"\n\u001B[1;32m     77\u001B[0m         \u001B[0madd_team_path\u001B[0m \u001B[0;34m=\u001B[0m \u001B[0;34m\"/teams\"\u001B[0m\u001B[0;34m\u001B[0m\u001B[0;34m\u001B[0m\u001B[0m\n\u001B[0;32m---> 78\u001B[0;31m         \u001B[0mr\u001B[0m \u001B[0;34m=\u001B[0m \u001B[0mself\u001B[0m\u001B[0;34m.\u001B[0m\u001B[0mapi\u001B[0m\u001B[0;34m.\u001B[0m\u001B[0mPOST\u001B[0m\u001B[0;34m(\u001B[0m\u001B[0madd_team_path\u001B[0m\u001B[0;34m,\u001B[0m \u001B[0mjson\u001B[0m\u001B[0;34m=\u001B[0m\u001B[0mteam\u001B[0m\u001B[0;34m)\u001B[0m\u001B[0;34m\u001B[0m\u001B[0;34m\u001B[0m\u001B[0m\n\u001B[0m\u001B[1;32m     79\u001B[0m         \u001B[0;32mreturn\u001B[0m \u001B[0mr\u001B[0m\u001B[0;34m\u001B[0m\u001B[0;34m\u001B[0m\u001B[0m\n\u001B[1;32m     80\u001B[0m \u001B[0;34m\u001B[0m\u001B[0m\n",
      "\u001B[0;32m~/.pyenv/versions/3.8.6/lib/python3.8/site-packages/grafana_api/grafana_api.py\u001B[0m in \u001B[0;36m__request_runnner\u001B[0;34m(url, json, headers)\u001B[0m\n\u001B[1;32m    129\u001B[0m                     \u001B[0;32mraise\u001B[0m \u001B[0mGrafanaUnauthorizedError\u001B[0m\u001B[0;34m(\u001B[0m\u001B[0mresponse\u001B[0m\u001B[0;34m)\u001B[0m\u001B[0;34m\u001B[0m\u001B[0;34m\u001B[0m\u001B[0m\n\u001B[1;32m    130\u001B[0m                 \u001B[0;32melif\u001B[0m \u001B[0;36m400\u001B[0m \u001B[0;34m<=\u001B[0m \u001B[0mr\u001B[0m\u001B[0;34m.\u001B[0m\u001B[0mstatus_code\u001B[0m \u001B[0;34m<\u001B[0m \u001B[0;36m500\u001B[0m\u001B[0;34m:\u001B[0m\u001B[0;34m\u001B[0m\u001B[0;34m\u001B[0m\u001B[0m\n\u001B[0;32m--> 131\u001B[0;31m                     raise GrafanaClientError(\n\u001B[0m\u001B[1;32m    132\u001B[0m                         \u001B[0mr\u001B[0m\u001B[0;34m.\u001B[0m\u001B[0mstatus_code\u001B[0m\u001B[0;34m,\u001B[0m\u001B[0;34m\u001B[0m\u001B[0;34m\u001B[0m\u001B[0m\n\u001B[1;32m    133\u001B[0m                         \u001B[0mresponse\u001B[0m\u001B[0;34m,\u001B[0m\u001B[0;34m\u001B[0m\u001B[0;34m\u001B[0m\u001B[0m\n",
      "\u001B[0;31mGrafanaClientError\u001B[0m: Client Error 409: Team name taken"
     ]
    }
   ],
   "source": [
    "mock_teams = get_n_mock_teams(4)\n",
    "\n",
    "for team in mock_teams:\n",
    "    team_id = make_team(GRAFANA_API, team)\n",
    "    teams[team['name']] = team_id"
   ],
   "metadata": {
    "collapsed": false,
    "pycharm": {
     "name": "#%%\n"
    }
   }
  },
  {
   "cell_type": "code",
   "execution_count": null,
   "outputs": [],
   "source": [
    "for user in get_n_mock_users(1):"
   ],
   "metadata": {
    "collapsed": false,
    "pycharm": {
     "name": "#%%\n"
    }
   }
  },
  {
   "cell_type": "code",
   "execution_count": null,
   "outputs": [],
   "source": [],
   "metadata": {
    "collapsed": false,
    "pycharm": {
     "name": "#%%\n"
    }
   }
  },
  {
   "cell_type": "code",
   "execution_count": 145,
   "outputs": [
    {
     "name": "stdout",
     "output_type": "stream",
     "text": [
      "done\n"
     ]
    },
    {
     "ename": "GrafanaClientError",
     "evalue": "Client Error 412: User with email 'bruker0@gmail.com' or username '' already exists",
     "output_type": "error",
     "traceback": [
      "\u001B[0;31m---------------------------------------------------------------------------\u001B[0m",
      "\u001B[0;31mGrafanaClientError\u001B[0m                        Traceback (most recent call last)",
      "\u001B[0;32m/var/folders/zk/k1phv3bx5wl1r0q512tls1r40000gn/T/ipykernel_7193/1050602771.py\u001B[0m in \u001B[0;36m<module>\u001B[0;34m\u001B[0m\n\u001B[1;32m      5\u001B[0m \u001B[0;32mexcept\u001B[0m \u001B[0mGrafanaException\u001B[0m \u001B[0;32mas\u001B[0m \u001B[0mex\u001B[0m\u001B[0;34m:\u001B[0m\u001B[0;34m\u001B[0m\u001B[0;34m\u001B[0m\u001B[0m\n\u001B[1;32m      6\u001B[0m     \u001B[0mprint\u001B[0m\u001B[0;34m(\u001B[0m\u001B[0;34m'done'\u001B[0m\u001B[0;34m)\u001B[0m\u001B[0;34m\u001B[0m\u001B[0;34m\u001B[0m\u001B[0m\n\u001B[0;32m----> 7\u001B[0;31m     \u001B[0;32mraise\u001B[0m \u001B[0mex\u001B[0m\u001B[0;34m\u001B[0m\u001B[0;34m\u001B[0m\u001B[0m\n\u001B[0m",
      "\u001B[0;32m/var/folders/zk/k1phv3bx5wl1r0q512tls1r40000gn/T/ipykernel_7193/1050602771.py\u001B[0m in \u001B[0;36m<module>\u001B[0;34m\u001B[0m\n\u001B[1;32m      2\u001B[0m \u001B[0;34m\u001B[0m\u001B[0m\n\u001B[1;32m      3\u001B[0m \u001B[0;32mtry\u001B[0m\u001B[0;34m:\u001B[0m\u001B[0;34m\u001B[0m\u001B[0;34m\u001B[0m\u001B[0m\n\u001B[0;32m----> 4\u001B[0;31m     \u001B[0mmake_member\u001B[0m\u001B[0;34m(\u001B[0m\u001B[0mGRAFANA_API\u001B[0m\u001B[0;34m,\u001B[0m \u001B[0mget_n_mock_users\u001B[0m\u001B[0;34m(\u001B[0m\u001B[0;36m1\u001B[0m\u001B[0;34m)\u001B[0m\u001B[0;34m[\u001B[0m\u001B[0;36m0\u001B[0m\u001B[0;34m]\u001B[0m\u001B[0;34m)\u001B[0m\u001B[0;34m\u001B[0m\u001B[0;34m\u001B[0m\u001B[0m\n\u001B[0m\u001B[1;32m      5\u001B[0m \u001B[0;32mexcept\u001B[0m \u001B[0mGrafanaException\u001B[0m \u001B[0;32mas\u001B[0m \u001B[0mex\u001B[0m\u001B[0;34m:\u001B[0m\u001B[0;34m\u001B[0m\u001B[0;34m\u001B[0m\u001B[0m\n\u001B[1;32m      6\u001B[0m     \u001B[0mprint\u001B[0m\u001B[0;34m(\u001B[0m\u001B[0;34m'done'\u001B[0m\u001B[0;34m)\u001B[0m\u001B[0;34m\u001B[0m\u001B[0;34m\u001B[0m\u001B[0m\n",
      "\u001B[0;32m/var/folders/zk/k1phv3bx5wl1r0q512tls1r40000gn/T/ipykernel_7193/822966554.py\u001B[0m in \u001B[0;36mmake_member\u001B[0;34m(grafana_api, user)\u001B[0m\n\u001B[1;32m      1\u001B[0m \u001B[0;32mdef\u001B[0m \u001B[0mmake_member\u001B[0m\u001B[0;34m(\u001B[0m\u001B[0mgrafana_api\u001B[0m\u001B[0;34m:\u001B[0m\u001B[0mGrafanaFace\u001B[0m\u001B[0;34m,\u001B[0m \u001B[0muser\u001B[0m\u001B[0;34m:\u001B[0m\u001B[0mUser\u001B[0m\u001B[0;34m)\u001B[0m\u001B[0;34m:\u001B[0m\u001B[0;34m\u001B[0m\u001B[0;34m\u001B[0m\u001B[0m\n\u001B[0;32m----> 2\u001B[0;31m     \u001B[0;32mreturn\u001B[0m \u001B[0mgrafana_api\u001B[0m\u001B[0;34m.\u001B[0m\u001B[0madmin\u001B[0m\u001B[0;34m.\u001B[0m\u001B[0mcreate_user\u001B[0m\u001B[0;34m(\u001B[0m\u001B[0muser\u001B[0m\u001B[0;34m)\u001B[0m\u001B[0;34m\u001B[0m\u001B[0;34m\u001B[0m\u001B[0m\n\u001B[0m\u001B[1;32m      3\u001B[0m \u001B[0;34m\u001B[0m\u001B[0m\n\u001B[1;32m      4\u001B[0m \u001B[0;32mdef\u001B[0m \u001B[0mmake_team\u001B[0m\u001B[0;34m(\u001B[0m\u001B[0mgrafana_api\u001B[0m\u001B[0;34m:\u001B[0m\u001B[0mGrafanaFace\u001B[0m\u001B[0;34m,\u001B[0m \u001B[0mteam\u001B[0m\u001B[0;34m:\u001B[0m\u001B[0mTeam\u001B[0m\u001B[0;34m)\u001B[0m\u001B[0;34m:\u001B[0m\u001B[0;34m\u001B[0m\u001B[0;34m\u001B[0m\u001B[0m\n\u001B[1;32m      5\u001B[0m     \u001B[0mresponse\u001B[0m \u001B[0;34m=\u001B[0m \u001B[0mgrafana_api\u001B[0m\u001B[0;34m.\u001B[0m\u001B[0mteams\u001B[0m\u001B[0;34m.\u001B[0m\u001B[0madd_team\u001B[0m\u001B[0;34m(\u001B[0m\u001B[0mteam\u001B[0m\u001B[0;34m)\u001B[0m\u001B[0;34m\u001B[0m\u001B[0;34m\u001B[0m\u001B[0m\n",
      "\u001B[0;32m~/.pyenv/versions/3.8.6/lib/python3.8/site-packages/grafana_api/api/admin.py\u001B[0m in \u001B[0;36mcreate_user\u001B[0;34m(self, user)\u001B[0m\n\u001B[1;32m     32\u001B[0m         \"\"\"\n\u001B[1;32m     33\u001B[0m         \u001B[0mcreate_user_path\u001B[0m \u001B[0;34m=\u001B[0m \u001B[0;34m\"/admin/users\"\u001B[0m\u001B[0;34m\u001B[0m\u001B[0;34m\u001B[0m\u001B[0m\n\u001B[0;32m---> 34\u001B[0;31m         \u001B[0mr\u001B[0m \u001B[0;34m=\u001B[0m \u001B[0mself\u001B[0m\u001B[0;34m.\u001B[0m\u001B[0mapi\u001B[0m\u001B[0;34m.\u001B[0m\u001B[0mPOST\u001B[0m\u001B[0;34m(\u001B[0m\u001B[0mcreate_user_path\u001B[0m\u001B[0;34m,\u001B[0m \u001B[0mjson\u001B[0m\u001B[0;34m=\u001B[0m\u001B[0muser\u001B[0m\u001B[0;34m)\u001B[0m\u001B[0;34m\u001B[0m\u001B[0;34m\u001B[0m\u001B[0m\n\u001B[0m\u001B[1;32m     35\u001B[0m         \u001B[0;32mreturn\u001B[0m \u001B[0mr\u001B[0m\u001B[0;34m\u001B[0m\u001B[0;34m\u001B[0m\u001B[0m\n\u001B[1;32m     36\u001B[0m \u001B[0;34m\u001B[0m\u001B[0m\n",
      "\u001B[0;32m~/.pyenv/versions/3.8.6/lib/python3.8/site-packages/grafana_api/grafana_api.py\u001B[0m in \u001B[0;36m__request_runnner\u001B[0;34m(url, json, headers)\u001B[0m\n\u001B[1;32m    129\u001B[0m                     \u001B[0;32mraise\u001B[0m \u001B[0mGrafanaUnauthorizedError\u001B[0m\u001B[0;34m(\u001B[0m\u001B[0mresponse\u001B[0m\u001B[0;34m)\u001B[0m\u001B[0;34m\u001B[0m\u001B[0;34m\u001B[0m\u001B[0m\n\u001B[1;32m    130\u001B[0m                 \u001B[0;32melif\u001B[0m \u001B[0;36m400\u001B[0m \u001B[0;34m<=\u001B[0m \u001B[0mr\u001B[0m\u001B[0;34m.\u001B[0m\u001B[0mstatus_code\u001B[0m \u001B[0;34m<\u001B[0m \u001B[0;36m500\u001B[0m\u001B[0;34m:\u001B[0m\u001B[0;34m\u001B[0m\u001B[0;34m\u001B[0m\u001B[0m\n\u001B[0;32m--> 131\u001B[0;31m                     raise GrafanaClientError(\n\u001B[0m\u001B[1;32m    132\u001B[0m                         \u001B[0mr\u001B[0m\u001B[0;34m.\u001B[0m\u001B[0mstatus_code\u001B[0m\u001B[0;34m,\u001B[0m\u001B[0;34m\u001B[0m\u001B[0;34m\u001B[0m\u001B[0m\n\u001B[1;32m    133\u001B[0m                         \u001B[0mresponse\u001B[0m\u001B[0;34m,\u001B[0m\u001B[0;34m\u001B[0m\u001B[0;34m\u001B[0m\u001B[0m\n",
      "\u001B[0;31mGrafanaClientError\u001B[0m: Client Error 412: User with email 'bruker0@gmail.com' or username '' already exists"
     ]
    }
   ],
   "source": [
    "from grafana_api.grafana_api import GrafanaException\n",
    "\n",
    "try:\n",
    "    make_member(GRAFANA_API, get_n_mock_users(1)[0])\n",
    "except GrafanaException as ex:\n",
    "    print('done')\n",
    "    raise ex"
   ],
   "metadata": {
    "collapsed": false,
    "pycharm": {
     "name": "#%%\n"
    }
   }
  },
  {
   "cell_type": "code",
   "execution_count": 147,
   "outputs": [
    {
     "data": {
      "text/plain": "21"
     },
     "execution_count": 147,
     "metadata": {},
     "output_type": "execute_result"
    }
   ],
   "source": [
    "make_team(GRAFANA_API, get_n_mock_teams(1)[0])"
   ],
   "metadata": {
    "collapsed": false,
    "pycharm": {
     "name": "#%%\n"
    }
   }
  },
  {
   "cell_type": "code",
   "execution_count": 149,
   "outputs": [],
   "source": [
    "for user in get_n_mock_users(4):\n",
    "    make_member(GRAFANA_API, user)"
   ],
   "metadata": {
    "collapsed": false,
    "pycharm": {
     "name": "#%%\n"
    }
   }
  },
  {
   "cell_type": "code",
   "execution_count": 150,
   "outputs": [
    {
     "data": {
      "text/plain": "{'bruker0@gmail.com': 13, 'bruker1@gmail.com': 14, 'bruker2@gmail.com': 15}"
     },
     "execution_count": 150,
     "metadata": {},
     "output_type": "execute_result"
    }
   ],
   "source": [
    "members"
   ],
   "metadata": {
    "collapsed": false,
    "pycharm": {
     "name": "#%%\n"
    }
   }
  },
  {
   "cell_type": "code",
   "execution_count": 153,
   "outputs": [
    {
     "ename": "GrafanaClientError",
     "evalue": "Client Error 422: [{\"fieldNames\":[\"UserId\"],\"classification\":\"RequiredError\",\"message\":\"Required\"}]",
     "output_type": "error",
     "traceback": [
      "\u001B[0;31m---------------------------------------------------------------------------\u001B[0m",
      "\u001B[0;31mGrafanaClientError\u001B[0m                        Traceback (most recent call last)",
      "\u001B[0;32m/var/folders/zk/k1phv3bx5wl1r0q512tls1r40000gn/T/ipykernel_7193/1160420851.py\u001B[0m in \u001B[0;36m<module>\u001B[0;34m\u001B[0m\n\u001B[0;32m----> 1\u001B[0;31m \u001B[0madd_member_to_team\u001B[0m\u001B[0;34m(\u001B[0m\u001B[0mGRAFANA_API\u001B[0m\u001B[0;34m,\u001B[0m \u001B[0muser_id\u001B[0m\u001B[0;34m=\u001B[0m\u001B[0mmembers\u001B[0m\u001B[0;34m.\u001B[0m\u001B[0mget\u001B[0m\u001B[0;34m(\u001B[0m\u001B[0;34m'members'\u001B[0m\u001B[0;34m)\u001B[0m\u001B[0;34m,\u001B[0m \u001B[0mteam_id\u001B[0m\u001B[0;34m=\u001B[0m\u001B[0;36m20\u001B[0m\u001B[0;34m)\u001B[0m\u001B[0;34m\u001B[0m\u001B[0;34m\u001B[0m\u001B[0m\n\u001B[0m",
      "\u001B[0;32m/var/folders/zk/k1phv3bx5wl1r0q512tls1r40000gn/T/ipykernel_7193/822966554.py\u001B[0m in \u001B[0;36madd_member_to_team\u001B[0;34m(grafana_api, user_id, team_id)\u001B[0m\n\u001B[1;32m      9\u001B[0m \u001B[0;34m\u001B[0m\u001B[0m\n\u001B[1;32m     10\u001B[0m \u001B[0;32mdef\u001B[0m \u001B[0madd_member_to_team\u001B[0m\u001B[0;34m(\u001B[0m\u001B[0mgrafana_api\u001B[0m\u001B[0;34m:\u001B[0m\u001B[0mGrafanaFace\u001B[0m\u001B[0;34m,\u001B[0m \u001B[0muser_id\u001B[0m\u001B[0;34m:\u001B[0m\u001B[0mstr\u001B[0m\u001B[0;34m,\u001B[0m \u001B[0mteam_id\u001B[0m\u001B[0;34m:\u001B[0m\u001B[0mint\u001B[0m\u001B[0;34m)\u001B[0m\u001B[0;34m:\u001B[0m\u001B[0;34m\u001B[0m\u001B[0;34m\u001B[0m\u001B[0m\n\u001B[0;32m---> 11\u001B[0;31m     \u001B[0;32mreturn\u001B[0m \u001B[0mgrafana_api\u001B[0m\u001B[0;34m.\u001B[0m\u001B[0mteams\u001B[0m\u001B[0;34m.\u001B[0m\u001B[0madd_team_member\u001B[0m\u001B[0;34m(\u001B[0m\u001B[0mteam_id\u001B[0m\u001B[0;34m,\u001B[0m \u001B[0muser_id\u001B[0m\u001B[0;34m)\u001B[0m\u001B[0;34m\u001B[0m\u001B[0;34m\u001B[0m\u001B[0m\n\u001B[0m\u001B[1;32m     12\u001B[0m \u001B[0;34m\u001B[0m\u001B[0m\n\u001B[1;32m     13\u001B[0m \u001B[0;32mdef\u001B[0m \u001B[0mget_team_members_by_team_id\u001B[0m\u001B[0;34m(\u001B[0m\u001B[0mgrafana_api\u001B[0m\u001B[0;34m:\u001B[0m\u001B[0mGrafanaFace\u001B[0m\u001B[0;34m,\u001B[0m \u001B[0mteam_id\u001B[0m\u001B[0;34m:\u001B[0m\u001B[0mint\u001B[0m\u001B[0;34m)\u001B[0m\u001B[0;34m:\u001B[0m\u001B[0;34m\u001B[0m\u001B[0;34m\u001B[0m\u001B[0m\n",
      "\u001B[0;32m~/.pyenv/versions/3.8.6/lib/python3.8/site-packages/grafana_api/api/team.py\u001B[0m in \u001B[0;36madd_team_member\u001B[0;34m(self, team_id, user_id)\u001B[0m\n\u001B[1;32m    119\u001B[0m         \u001B[0madd_team_member_path\u001B[0m \u001B[0;34m=\u001B[0m \u001B[0;34m\"/teams/%s/members\"\u001B[0m \u001B[0;34m%\u001B[0m \u001B[0mteam_id\u001B[0m\u001B[0;34m\u001B[0m\u001B[0;34m\u001B[0m\u001B[0m\n\u001B[1;32m    120\u001B[0m         \u001B[0mpayload\u001B[0m \u001B[0;34m=\u001B[0m \u001B[0;34m{\u001B[0m\u001B[0;34m\"userId\"\u001B[0m\u001B[0;34m:\u001B[0m \u001B[0muser_id\u001B[0m\u001B[0;34m}\u001B[0m\u001B[0;34m\u001B[0m\u001B[0;34m\u001B[0m\u001B[0m\n\u001B[0;32m--> 121\u001B[0;31m         \u001B[0mr\u001B[0m \u001B[0;34m=\u001B[0m \u001B[0mself\u001B[0m\u001B[0;34m.\u001B[0m\u001B[0mapi\u001B[0m\u001B[0;34m.\u001B[0m\u001B[0mPOST\u001B[0m\u001B[0;34m(\u001B[0m\u001B[0madd_team_member_path\u001B[0m\u001B[0;34m,\u001B[0m \u001B[0mjson\u001B[0m\u001B[0;34m=\u001B[0m\u001B[0mpayload\u001B[0m\u001B[0;34m)\u001B[0m\u001B[0;34m\u001B[0m\u001B[0;34m\u001B[0m\u001B[0m\n\u001B[0m\u001B[1;32m    122\u001B[0m         \u001B[0;32mreturn\u001B[0m \u001B[0mr\u001B[0m\u001B[0;34m\u001B[0m\u001B[0;34m\u001B[0m\u001B[0m\n\u001B[1;32m    123\u001B[0m \u001B[0;34m\u001B[0m\u001B[0m\n",
      "\u001B[0;32m~/.pyenv/versions/3.8.6/lib/python3.8/site-packages/grafana_api/grafana_api.py\u001B[0m in \u001B[0;36m__request_runnner\u001B[0;34m(url, json, headers)\u001B[0m\n\u001B[1;32m    129\u001B[0m                     \u001B[0;32mraise\u001B[0m \u001B[0mGrafanaUnauthorizedError\u001B[0m\u001B[0;34m(\u001B[0m\u001B[0mresponse\u001B[0m\u001B[0;34m)\u001B[0m\u001B[0;34m\u001B[0m\u001B[0;34m\u001B[0m\u001B[0m\n\u001B[1;32m    130\u001B[0m                 \u001B[0;32melif\u001B[0m \u001B[0;36m400\u001B[0m \u001B[0;34m<=\u001B[0m \u001B[0mr\u001B[0m\u001B[0;34m.\u001B[0m\u001B[0mstatus_code\u001B[0m \u001B[0;34m<\u001B[0m \u001B[0;36m500\u001B[0m\u001B[0;34m:\u001B[0m\u001B[0;34m\u001B[0m\u001B[0;34m\u001B[0m\u001B[0m\n\u001B[0;32m--> 131\u001B[0;31m                     raise GrafanaClientError(\n\u001B[0m\u001B[1;32m    132\u001B[0m                         \u001B[0mr\u001B[0m\u001B[0;34m.\u001B[0m\u001B[0mstatus_code\u001B[0m\u001B[0;34m,\u001B[0m\u001B[0;34m\u001B[0m\u001B[0;34m\u001B[0m\u001B[0m\n\u001B[1;32m    133\u001B[0m                         \u001B[0mresponse\u001B[0m\u001B[0;34m,\u001B[0m\u001B[0;34m\u001B[0m\u001B[0;34m\u001B[0m\u001B[0m\n",
      "\u001B[0;31mGrafanaClientError\u001B[0m: Client Error 422: [{\"fieldNames\":[\"UserId\"],\"classification\":\"RequiredError\",\"message\":\"Required\"}]"
     ]
    }
   ],
   "source": [
    "add_member_to_team(GRAFANA_API, user_id=members.get('members'), team_id=20)"
   ],
   "metadata": {
    "collapsed": false,
    "pycharm": {
     "name": "#%%\n"
    }
   }
  },
  {
   "cell_type": "code",
   "execution_count": 151,
   "outputs": [
    {
     "data": {
      "text/plain": "{'team0': 17, 'team1': 18, 'team2': 19, 'team3': 20}"
     },
     "execution_count": 151,
     "metadata": {},
     "output_type": "execute_result"
    }
   ],
   "source": [
    "teams"
   ],
   "metadata": {
    "collapsed": false,
    "pycharm": {
     "name": "#%%\n"
    }
   }
  },
  {
   "cell_type": "markdown",
   "source": [],
   "metadata": {
    "collapsed": false,
    "pycharm": {
     "name": "#%% md\n"
    }
   }
  },
  {
   "cell_type": "code",
   "execution_count": 166,
   "outputs": [],
   "source": [
    "from faker import Faker\n",
    "\n",
    "fake = Faker(\"no_NO\")\n"
   ],
   "metadata": {
    "collapsed": false,
    "pycharm": {
     "name": "#%%\n"
    }
   }
  },
  {
   "cell_type": "code",
   "execution_count": 167,
   "outputs": [
    {
     "data": {
      "text/plain": "'Arild Jørgensen'"
     },
     "execution_count": 167,
     "metadata": {},
     "output_type": "execute_result"
    }
   ],
   "source": [
    "fake.name()"
   ],
   "metadata": {
    "collapsed": false,
    "pycharm": {
     "name": "#%%\n"
    }
   }
  },
  {
   "cell_type": "code",
   "execution_count": 165,
   "outputs": [
    {
     "ename": "AttributeError",
     "evalue": "type object 'Faker' has no attribute 'email'",
     "output_type": "error",
     "traceback": [
      "\u001B[0;31m---------------------------------------------------------------------------\u001B[0m",
      "\u001B[0;31mAttributeError\u001B[0m                            Traceback (most recent call last)",
      "\u001B[0;32m/var/folders/zk/k1phv3bx5wl1r0q512tls1r40000gn/T/ipykernel_7193/1487640338.py\u001B[0m in \u001B[0;36m<module>\u001B[0;34m\u001B[0m\n\u001B[0;32m----> 1\u001B[0;31m \u001B[0mFaker\u001B[0m\u001B[0;34m.\u001B[0m\u001B[0memail\u001B[0m\u001B[0;34m(\u001B[0m\u001B[0;34m)\u001B[0m\u001B[0;34m\u001B[0m\u001B[0;34m\u001B[0m\u001B[0m\n\u001B[0m",
      "\u001B[0;31mAttributeError\u001B[0m: type object 'Faker' has no attribute 'email'"
     ]
    }
   ],
   "source": [],
   "metadata": {
    "collapsed": false,
    "pycharm": {
     "name": "#%%\n"
    }
   }
  },
  {
   "cell_type": "code",
   "execution_count": null,
   "outputs": [],
   "source": [],
   "metadata": {
    "collapsed": false,
    "pycharm": {
     "name": "#%%\n"
    }
   }
  }
 ],
 "metadata": {
  "kernelspec": {
   "display_name": "Python 3",
   "language": "python",
   "name": "python3"
  },
  "language_info": {
   "codemirror_mode": {
    "name": "ipython",
    "version": 2
   },
   "file_extension": ".py",
   "mimetype": "text/x-python",
   "name": "python",
   "nbconvert_exporter": "python",
   "pygments_lexer": "ipython2",
   "version": "2.7.6"
  }
 },
 "nbformat": 4,
 "nbformat_minor": 0
}